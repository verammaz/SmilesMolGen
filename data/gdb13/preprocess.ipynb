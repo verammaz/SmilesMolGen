{
 "cells": [
  {
   "cell_type": "code",
   "execution_count": 1,
   "metadata": {},
   "outputs": [],
   "source": [
    "import pandas as pd\n",
    "import os"
   ]
  },
  {
   "cell_type": "code",
   "execution_count": 6,
   "metadata": {},
   "outputs": [],
   "source": [
    "gdb13_data = 'gdb13.1M.freq.ll.smi'\n",
    "\n",
    "df = pd.read_csv(gdb13_data, header=None, sep='\\t')"
   ]
  },
  {
   "cell_type": "code",
   "execution_count": 11,
   "metadata": {},
   "outputs": [
    {
     "data": {
      "text/plain": [
       "0              C1=Cc2cc1nnc1snc(o2)-o-1\n",
       "1         N1C2C3C4C5NC6C7C6C5(C13)C2N47\n",
       "2         c1c2c[nH]c(nn3cnc(c#1)c3)-s-2\n",
       "3               N=c1-c2cnn-1cnccc(=O)c2\n",
       "4               C=Nn1-c2cccconc-1[nH]c2\n",
       "                      ...              \n",
       "999995            NC12CNCC1N(C1CC1)CC2O\n",
       "999996       Cn1[nH]cc(C(=O)O)c1=NC1CC1\n",
       "999997             OCC=C1NC(=S)NCC=CC1O\n",
       "999998             N#CCCC12NC(CO)CC1C2O\n",
       "999999           CC(=CCC(C)(C=O)OC=O)CO\n",
       "Name: 0, Length: 1000000, dtype: object"
      ]
     },
     "execution_count": 11,
     "metadata": {},
     "output_type": "execute_result"
    }
   ],
   "source": [
    "df[0]"
   ]
  },
  {
   "cell_type": "code",
   "execution_count": 12,
   "metadata": {},
   "outputs": [],
   "source": [
    "df[0].to_csv('gdb13_rand1m.smi', header=None, index=False)"
   ]
  }
 ],
 "metadata": {
  "kernelspec": {
   "display_name": "Python 3",
   "language": "python",
   "name": "python3"
  },
  "language_info": {
   "codemirror_mode": {
    "name": "ipython",
    "version": 3
   },
   "file_extension": ".py",
   "mimetype": "text/x-python",
   "name": "python",
   "nbconvert_exporter": "python",
   "pygments_lexer": "ipython3",
   "version": "3.12.2"
  }
 },
 "nbformat": 4,
 "nbformat_minor": 2
}
