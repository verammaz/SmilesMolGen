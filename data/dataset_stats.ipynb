{
 "cells": [
  {
   "cell_type": "code",
   "execution_count": 22,
   "metadata": {},
   "outputs": [],
   "source": [
    "import torch\n",
    "import os\n",
    "import sys\n",
    "import pandas as pd\n",
    "import numpy as np\n",
    "\n",
    "#import sacorer \n",
    "from rdkit import Chem\n",
    "from rdkit.Chem import QED, Crippen, Descriptors\n",
    "from rdkit import RDConfig\n",
    "sys.path.append(os.path.join(RDConfig.RDContribDir, 'SA_Score'))\n",
    "import sascorer\n",
    "from rdkit import RDLogger\n",
    "\n",
    "# Suppress RDKit warnings\n",
    "RDLogger.DisableLog('rdApp.*')\n",
    "\n",
    "\n",
    "def calc_qed(molecules):\n",
    "    qed_values = [QED.qed(mol) for mol in molecules]\n",
    "    return qed_values\n",
    "\n",
    "def calc_logp(molecules, predictor=None):\n",
    "    logp_values = []\n",
    "    if predictor is None:  \n",
    "        logp_values = [Crippen.MolLogP(mol) for mol in molecules]\n",
    "\n",
    "    return logp_values\n",
    "\n",
    "def calc_mw(molecules):\n",
    "    weights = [Descriptors.MolWt(mol) for mol in molecules]\n",
    "    return weights\n",
    "\n",
    "def calc_sas(molecules):\n",
    "    try:\n",
    "        sascores = [sascorer.calculateScore(mol) for mol in molecules]\n",
    "        return sascores\n",
    "    except Exception:\n",
    "        return None\n",
    "\n",
    "\n",
    "def get_max_atoms_smiles(smiles_list):\n",
    "    max_atoms = 0\n",
    "    max_smiles = None\n",
    "    \n",
    "    for smi in smiles_list:\n",
    "        mol = Chem.MolFromSmiles(smi)  # Parse the SMILES string\n",
    "        if mol:\n",
    "            num_atoms = mol.GetNumAtoms()  # Get the number of atoms\n",
    "            if num_atoms > max_atoms:\n",
    "                max_atoms = num_atoms\n",
    "                max_smiles = smi\n",
    "        else:\n",
    "            print(f\"Invalid SMILES: {smi}\")  # Handle invalid SMILES gracefully\n",
    "    \n",
    "    return max_smiles, max_atoms\n",
    "\n",
    "def calc_ic50(molecules):\n",
    "    pass\n"
   ]
  },
  {
   "cell_type": "markdown",
   "metadata": {},
   "source": [
    "# stats for gdb13 dataset"
   ]
  },
  {
   "cell_type": "code",
   "execution_count": 15,
   "metadata": {},
   "outputs": [
    {
     "name": "stdout",
     "output_type": "stream",
     "text": [
      "QED: 0.5060444260882511 ± 0.12374275713575746\n",
      "LogP: 0.4718613914600001 ± 1.1103465660901581\n",
      "mWt: 179.836813518 ± 8.317210586583487\n",
      "SAS: 4.9967048330631085 ± 0.8475189819385635\n"
     ]
    }
   ],
   "source": [
    "df = pd.read_csv('gdb13/gdb13_rand1m.smi')\n",
    "smiles = df['smiles']\n",
    "molecules = [Chem.MolFromSmiles(smi) for smi in smiles]\n",
    "\n",
    "qed = calc_qed(molecules)\n",
    "logp = calc_logp(molecules)\n",
    "mw = calc_mw(molecules)\n",
    "sas = calc_sas(molecules)\n",
    "ic50 = calc_ic50(molecules)\n",
    "\n",
    "print(f'QED: {np.mean(qed)} ± {np.std(qed)}')\n",
    "print(f'LogP: {np.mean(logp)} ± {np.std(logp)}')\n",
    "print(f'mWt: {np.mean(mw)} ± {np.std(mw)}')\n",
    "\n",
    "if sas is not None:\n",
    "    print(f'SAS: {np.mean(sas)} ± {np.std(sas)}')\n",
    "\n",
    "if ic50 is not None: \n",
    "    print(f'ic50: {np.mean(ic50)} ± {np.std(ic50)}')\n",
    "\n",
    "\n"
   ]
  },
  {
   "cell_type": "code",
   "execution_count": 23,
   "metadata": {},
   "outputs": [
    {
     "data": {
      "text/plain": [
       "('C1=Cc2cc1nnc1snc(o2)-o-1', 13)"
      ]
     },
     "execution_count": 23,
     "metadata": {},
     "output_type": "execute_result"
    }
   ],
   "source": [
    "df = pd.read_csv('gdb13/gdb13_rand1m.smi')\n",
    "smiles = df['smiles']\n",
    "\n",
    "get_max_atoms_smiles(smiles)\n"
   ]
  },
  {
   "cell_type": "markdown",
   "metadata": {},
   "source": [
    "# stats for moses dataset"
   ]
  },
  {
   "cell_type": "code",
   "execution_count": 24,
   "metadata": {},
   "outputs": [
    {
     "name": "stdout",
     "output_type": "stream",
     "text": [
      "QED: 0.8065142405076071 ± 0.09492048146658318\n",
      "LogP: 2.439960624410364 ± 0.9293194870287346\n",
      "mWt: 307.24072932289073 ± 28.02569312876797\n",
      "SAS: 2.448546550570314 ± 0.4602897070145652\n"
     ]
    }
   ],
   "source": [
    "df = pd.read_csv('moses/moses.smi')\n",
    "smiles = df['smiles']\n",
    "molecules = [Chem.MolFromSmiles(smi) for smi in smiles]\n",
    "\n",
    "qed = calc_qed(molecules)\n",
    "logp = calc_logp(molecules)\n",
    "mw = calc_mw(molecules)\n",
    "sas = calc_sas(molecules)\n",
    "ic50 = calc_ic50(molecules)\n",
    "\n",
    "print(f'QED: {np.mean(qed)} ± {np.std(qed)}')\n",
    "print(f'LogP: {np.mean(logp)} ± {np.std(logp)}')\n",
    "print(f'mWt: {np.mean(mw)} ± {np.std(mw)}')\n",
    "\n",
    "if sas is not None:\n",
    "    print(f'SAS: {np.mean(sas)} ± {np.std(sas)}')\n",
    "\n",
    "if ic50 is not None: \n",
    "    print(f'ic50: {np.mean(ic50)} ± {np.std(ic50)}')"
   ]
  },
  {
   "cell_type": "code",
   "execution_count": 25,
   "metadata": {},
   "outputs": [
    {
     "data": {
      "text/plain": [
       "('c1ccc(-c2nccc(-c3ccc(-n4cnc5ccccc54)cc3)n2)nc1', 27)"
      ]
     },
     "execution_count": 25,
     "metadata": {},
     "output_type": "execute_result"
    }
   ],
   "source": [
    "df = pd.read_csv('moses/moses.smi')\n",
    "smiles = df['smiles']\n",
    "\n",
    "get_max_atoms_smiles(smiles)"
   ]
  },
  {
   "cell_type": "markdown",
   "metadata": {},
   "source": [
    "# stats or zinc dataset"
   ]
  },
  {
   "cell_type": "code",
   "execution_count": 17,
   "metadata": {},
   "outputs": [
    {
     "name": "stdout",
     "output_type": "stream",
     "text": [
      "QED: 0.7318428839336184 ± 0.13857008827101652\n",
      "LogP: 2.4571212459160985 ± 1.434332866371926\n",
      "mWt: 332.1391160329519 ± 61.94344630114583\n",
      "SAS: 3.053292628954841 ± 0.8348848426412322\n"
     ]
    }
   ],
   "source": [
    "df = pd.read_csv('zinc/zinc.smi')\n",
    "smiles = df['smiles']\n",
    "molecules = [Chem.MolFromSmiles(smi) for smi in smiles]\n",
    "\n",
    "qed = calc_qed(molecules)\n",
    "logp = calc_logp(molecules)\n",
    "mw = calc_mw(molecules)\n",
    "sas = calc_sas(molecules)\n",
    "ic50 = calc_ic50(molecules)\n",
    "\n",
    "print(f'QED: {np.mean(qed)} ± {np.std(qed)}')\n",
    "print(f'LogP: {np.mean(logp)} ± {np.std(logp)}')\n",
    "print(f'mWt: {np.mean(mw)} ± {np.std(mw)}')\n",
    "\n",
    "if sas is not None:\n",
    "    print(f'SAS: {np.mean(sas)} ± {np.std(sas)}')\n",
    "\n",
    "if ic50 is not None: \n",
    "    print(f'ic50: {np.mean(ic50)} ± {np.std(ic50)}')"
   ]
  },
  {
   "cell_type": "code",
   "execution_count": 26,
   "metadata": {},
   "outputs": [
    {
     "data": {
      "text/plain": [
       "('Cc1cccc(C)c1NC(=O)c1cccc(N2C(=O)[C@H]3C4c5ccccc5C(c5ccccc54)[C@H]3C2=O)c1',\n",
       " 38)"
      ]
     },
     "execution_count": 26,
     "metadata": {},
     "output_type": "execute_result"
    }
   ],
   "source": [
    "df = pd.read_csv('zinc/zinc.smi')\n",
    "smiles = df['smiles']\n",
    "\n",
    "get_max_atoms_smiles(smiles)"
   ]
  }
 ],
 "metadata": {
  "kernelspec": {
   "display_name": "base",
   "language": "python",
   "name": "python3"
  },
  "language_info": {
   "codemirror_mode": {
    "name": "ipython",
    "version": 3
   },
   "file_extension": ".py",
   "mimetype": "text/x-python",
   "name": "python",
   "nbconvert_exporter": "python",
   "pygments_lexer": "ipython3",
   "version": "3.12.2"
  }
 },
 "nbformat": 4,
 "nbformat_minor": 2
}
