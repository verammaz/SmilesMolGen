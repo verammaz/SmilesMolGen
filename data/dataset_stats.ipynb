{
 "cells": [
  {
   "cell_type": "code",
   "execution_count": 11,
   "metadata": {},
   "outputs": [],
   "source": [
    "import torch\n",
    "import os\n",
    "import sys\n",
    "import pandas as pd\n",
    "import numpy as np\n",
    "\n",
    "#import sacorer \n",
    "from rdkit import Chem\n",
    "from rdkit.Chem import QED, Crippen, Descriptors\n",
    "from rdkit import RDConfig\n",
    "sys.path.append(os.path.join(RDConfig.RDContribDir, 'SA_Score'))\n",
    "import sascorer\n",
    "from rdkit import RDLogger\n",
    "\n",
    "# Suppress RDKit warnings\n",
    "RDLogger.DisableLog('rdApp.*')\n",
    "\n",
    "\n",
    "def calc_qed(molecules):\n",
    "    qed_values = [QED.qed(mol) for mol in molecules]\n",
    "    return qed_values\n",
    "\n",
    "def calc_logp(molecules, predictor=None):\n",
    "    logp_values = []\n",
    "    if predictor is None:  \n",
    "        logp_values = [Crippen.MolLogP(mol) for mol in molecules]\n",
    "\n",
    "    return logp_values\n",
    "\n",
    "def calc_mw(molecules):\n",
    "    weights = [Descriptors.MolWt(mol) for mol in molecules]\n",
    "    return weights\n",
    "\n",
    "def calc_sas(molecules):\n",
    "    try:\n",
    "        sascores = [sascorer.calculateScore(mol) for mol in molecules]\n",
    "        return sascores\n",
    "    except Exception:\n",
    "        return None\n",
    "\n",
    "\n",
    "\n",
    "def calc_ic50(molecules):\n",
    "    pass\n"
   ]
  },
  {
   "cell_type": "markdown",
   "metadata": {},
   "source": [
    "# stats for gdb13 dataset"
   ]
  },
  {
   "cell_type": "code",
   "execution_count": 12,
   "metadata": {},
   "outputs": [
    {
     "name": "stdout",
     "output_type": "stream",
     "text": [
      "QED: 0.5060444260882511 ± 0.12374275713575746\n",
      "LogP: 0.4718613914600001 ± 1.1103465660901581\n",
      "mWt: 179.836813518 ± 8.317210586583487\n"
     ]
    }
   ],
   "source": [
    "df = pd.read_csv('gdb13/gdb13_rand1m.smi')\n",
    "smiles = df['smiles']\n",
    "molecules = [Chem.MolFromSmiles(smi) for smi in smiles]\n",
    "\n",
    "qed = calc_qed(molecules)\n",
    "logp = calc_logp(molecules)\n",
    "mw = calc_mw(molecules)\n",
    "sas = calc_sas(molecules)\n",
    "ic50 = calc_ic50(molecules)\n",
    "\n",
    "print(f'QED: {np.mean(qed)} ± {np.std(qed)}')\n",
    "print(f'LogP: {np.mean(logp)} ± {np.std(logp)}')\n",
    "print(f'mWt: {np.mean(mw)} ± {np.std(mw)}')\n",
    "\n",
    "if sas is not None:\n",
    "    print(f'SAS: {np.mean(sas)} ± {np.std(sas)}')\n",
    "\n",
    "if ic50 is not None: \n",
    "    print(f'ic50: {np.mean(ic50)} ± {np.std(ic50)}')\n",
    "\n",
    "\n"
   ]
  },
  {
   "cell_type": "markdown",
   "metadata": {},
   "source": [
    "# stats for moses dataset"
   ]
  },
  {
   "cell_type": "code",
   "execution_count": null,
   "metadata": {},
   "outputs": [],
   "source": [
    "df = pd.read_csv('moses/moses.smi')\n",
    "smiles = df['smiles']\n",
    "molecules = [Chem.MolFromSmiles(smi) for smi in smiles]\n",
    "\n",
    "qed = calc_qed(molecules)\n",
    "logp = calc_logp(molecules)\n",
    "mw = calc_mw(molecules)\n",
    "\n",
    "print(f'QED: {np.mean(qed)} ± {np.std(qed)}')\n",
    "print(f'LogP: {np.mean(logp)} ± {np.std(logp)}')\n",
    "print(f'mWt: {np.mean(mw)} ± {np.std(mw)}')"
   ]
  },
  {
   "cell_type": "markdown",
   "metadata": {},
   "source": [
    "# stats or zinc dataset"
   ]
  },
  {
   "cell_type": "code",
   "execution_count": null,
   "metadata": {},
   "outputs": [],
   "source": [
    "df = pd.read_csv('zinc/zinc.smi')\n",
    "smiles = df['smiles']\n",
    "molecules = [Chem.MolFromSmiles(smi) for smi in smiles]\n",
    "\n",
    "qed = calc_qed(molecules)\n",
    "logp = calc_logp(molecules)\n",
    "mw = calc_mw(molecules)\n",
    "\n",
    "print(f'QED: {np.mean(qed)} ± {np.std(qed)}')\n",
    "print(f'LogP: {np.mean(logp)} ± {np.std(logp)}')\n",
    "print(f'mWt: {np.mean(mw)} ± {np.std(mw)}')"
   ]
  }
 ],
 "metadata": {
  "kernelspec": {
   "display_name": "base",
   "language": "python",
   "name": "python3"
  },
  "language_info": {
   "codemirror_mode": {
    "name": "ipython",
    "version": 3
   },
   "file_extension": ".py",
   "mimetype": "text/x-python",
   "name": "python",
   "nbconvert_exporter": "python",
   "pygments_lexer": "ipython3",
   "version": "3.12.2"
  }
 },
 "nbformat": 4,
 "nbformat_minor": 2
}
