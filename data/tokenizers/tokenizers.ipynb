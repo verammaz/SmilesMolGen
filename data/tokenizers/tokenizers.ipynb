{
 "cells": [
  {
   "cell_type": "code",
   "execution_count": 1,
   "metadata": {},
   "outputs": [],
   "source": [
    "moses = {\"0\": \"C\", \"1\": \"s\", \"2\": \"N\", \"3\": \"H\", \"4\": \"O\", \"5\": \"4\", \"6\": \"l\", \"7\": \"3\", \"8\": \"(\", \"9\": \"]\", \"10\": \"=\", \"11\": \"6\", \"12\": \"r\", \"13\": \"#\", \"14\": \"o\", \"15\": \"[\", \"16\": \"5\", \"17\": \"c\", \"18\": \"1\", \"19\": \"-\", \"20\": \"S\", \"21\": \"n\", \"22\": \"2\", \"23\": \"F\", \"24\": \")\", \"25\": \"B\", \"26\": \"[PAD]\", \"27\": \"[BOS]\", \"28\": \"[EOS]\", \"29\": \"[SEP]\"}\n",
    "gdb13 = {\"0\": \"]\", \"1\": \"H\", \"2\": \"2\", \"3\": \"5\", \"4\": \")\", \"5\": \"=\", \"6\": \"S\", \"7\": \"#\", \"8\": \"l\", \"9\": \"6\", \"10\": \"7\", \"11\": \"+\", \"12\": \"-\", \"13\": \"C\", \"14\": \"4\", \"15\": \"3\", \"16\": \"(\", \"17\": \"1\", \"18\": \"[\", \"19\": \"N\", \"20\": \"O\", \"21\": \"[PAD]\", \"22\": \"[BOS]\", \"23\": \"[EOS]\", \"24\": \"[SEP]\", \"25\": \"[UNK]\"}"
   ]
  },
  {
   "cell_type": "code",
   "execution_count": 3,
   "metadata": {},
   "outputs": [
    {
     "name": "stdout",
     "output_type": "stream",
     "text": [
      "s\n",
      "r\n",
      "o\n",
      "c\n",
      "n\n",
      "F\n",
      "B\n"
     ]
    }
   ],
   "source": [
    "\n",
    "for char in moses.values():\n",
    "    if char not in gdb13.values():\n",
    "        print(char)"
   ]
  },
  {
   "cell_type": "code",
   "execution_count": 4,
   "metadata": {},
   "outputs": [
    {
     "name": "stdout",
     "output_type": "stream",
     "text": [
      "7\n",
      "+\n",
      "[UNK]\n"
     ]
    }
   ],
   "source": [
    "\n",
    "for char in gdb13.values():\n",
    "    if char not in moses.values():\n",
    "        print(char)"
   ]
  }
 ],
 "metadata": {
  "kernelspec": {
   "display_name": "base",
   "language": "python",
   "name": "python3"
  },
  "language_info": {
   "codemirror_mode": {
    "name": "ipython",
    "version": 3
   },
   "file_extension": ".py",
   "mimetype": "text/x-python",
   "name": "python",
   "nbconvert_exporter": "python",
   "pygments_lexer": "ipython3",
   "version": "3.12.2"
  }
 },
 "nbformat": 4,
 "nbformat_minor": 2
}
