{
 "cells": [
  {
   "cell_type": "code",
   "execution_count": 2,
   "metadata": {},
   "outputs": [],
   "source": [
    "import pandas as pd\n",
    "import os"
   ]
  },
  {
   "cell_type": "code",
   "execution_count": 6,
   "metadata": {},
   "outputs": [],
   "source": [
    "gdb13_data = 'gdb13/gdb13.1M.freq.ll.smi'\n",
    "\n",
    "df = pd.read_csv(gdb13_data, header=None, sep='\\t')"
   ]
  },
  {
   "cell_type": "code",
   "execution_count": null,
   "metadata": {},
   "outputs": [],
   "source": [
    "df[0]"
   ]
  },
  {
   "cell_type": "code",
   "execution_count": 8,
   "metadata": {},
   "outputs": [],
   "source": [
    "df.columns = ['smiles', 'i', 'freq']\n",
    "\n",
    "df.to_csv('gdb13/gdb13_rand1m.smi', index=False)"
   ]
  },
  {
   "cell_type": "code",
   "execution_count": 8,
   "metadata": {},
   "outputs": [],
   "source": [
    "df[0][:50].to_csv('gdb13_rand1m_50.smi', header=None, index=False)"
   ]
  },
  {
   "cell_type": "code",
   "execution_count": 27,
   "metadata": {},
   "outputs": [],
   "source": [
    "zinc_data = 'zinc/zinc.csv'\n",
    "moses_data = 'moses/moses.txt'\n",
    "\n",
    "zinc_df = pd.read_csv(zinc_data)\n",
    "zinc_df.iloc[:, 0] = zinc_df.iloc[:, 0].str.replace('\"', '', regex=False).str.strip()\n",
    "\n"
   ]
  },
  {
   "cell_type": "code",
   "execution_count": 28,
   "metadata": {},
   "outputs": [
    {
     "data": {
      "text/html": [
       "<div>\n",
       "<style scoped>\n",
       "    .dataframe tbody tr th:only-of-type {\n",
       "        vertical-align: middle;\n",
       "    }\n",
       "\n",
       "    .dataframe tbody tr th {\n",
       "        vertical-align: top;\n",
       "    }\n",
       "\n",
       "    .dataframe thead th {\n",
       "        text-align: right;\n",
       "    }\n",
       "</style>\n",
       "<table border=\"1\" class=\"dataframe\">\n",
       "  <thead>\n",
       "    <tr style=\"text-align: right;\">\n",
       "      <th></th>\n",
       "      <th>smiles</th>\n",
       "      <th>logP</th>\n",
       "      <th>qed</th>\n",
       "      <th>SAS</th>\n",
       "    </tr>\n",
       "  </thead>\n",
       "  <tbody>\n",
       "    <tr>\n",
       "      <th>0</th>\n",
       "      <td>CC(C)(C)c1ccc2occ(CC(=O)Nc3ccccc3F)c2c1</td>\n",
       "      <td>5.05060</td>\n",
       "      <td>0.702012</td>\n",
       "      <td>2.084095</td>\n",
       "    </tr>\n",
       "    <tr>\n",
       "      <th>1</th>\n",
       "      <td>C[C@@H]1CC(Nc2cncc(-c3nncn3C)c2)C[C@@H](C)C1</td>\n",
       "      <td>3.11370</td>\n",
       "      <td>0.928975</td>\n",
       "      <td>3.432004</td>\n",
       "    </tr>\n",
       "    <tr>\n",
       "      <th>2</th>\n",
       "      <td>N#Cc1ccc(-c2ccc(O[C@@H](C(=O)N3CCCC3)c3ccccc3)...</td>\n",
       "      <td>4.96778</td>\n",
       "      <td>0.599682</td>\n",
       "      <td>2.470633</td>\n",
       "    </tr>\n",
       "    <tr>\n",
       "      <th>3</th>\n",
       "      <td>CCOC(=O)[C@@H]1CCCN(C(=O)c2nc(-c3ccc(C)cc3)n3c...</td>\n",
       "      <td>4.00022</td>\n",
       "      <td>0.690944</td>\n",
       "      <td>2.822753</td>\n",
       "    </tr>\n",
       "    <tr>\n",
       "      <th>4</th>\n",
       "      <td>N#CC1=C(SCC(=O)Nc2cccc(Cl)c2)N=C([O-])[C@H](C#...</td>\n",
       "      <td>3.60956</td>\n",
       "      <td>0.789027</td>\n",
       "      <td>4.035182</td>\n",
       "    </tr>\n",
       "    <tr>\n",
       "      <th>...</th>\n",
       "      <td>...</td>\n",
       "      <td>...</td>\n",
       "      <td>...</td>\n",
       "      <td>...</td>\n",
       "    </tr>\n",
       "    <tr>\n",
       "      <th>249450</th>\n",
       "      <td>CC1(C)CC[C@H](CNC(=O)Cn2ncc3ccccc3c2=O)c2ccccc21</td>\n",
       "      <td>3.36790</td>\n",
       "      <td>0.745901</td>\n",
       "      <td>2.900726</td>\n",
       "    </tr>\n",
       "    <tr>\n",
       "      <th>249451</th>\n",
       "      <td>Cn1ccnc1C(=O)c1ccc(NC(=O)C2CCN(C(=O)C(C)(C)C)C...</td>\n",
       "      <td>2.87430</td>\n",
       "      <td>0.799426</td>\n",
       "      <td>2.326627</td>\n",
       "    </tr>\n",
       "    <tr>\n",
       "      <th>249452</th>\n",
       "      <td>Cc1ccc(NC(=O)C(=O)N(C)Cc2ccccc2)c(C)c1</td>\n",
       "      <td>2.90054</td>\n",
       "      <td>0.878086</td>\n",
       "      <td>1.840642</td>\n",
       "    </tr>\n",
       "    <tr>\n",
       "      <th>249453</th>\n",
       "      <td>Cc1cc(C(=O)Nc2ccc(OCC(N)=O)cc2)c(C)n1C1CC1</td>\n",
       "      <td>2.55624</td>\n",
       "      <td>0.852917</td>\n",
       "      <td>2.024638</td>\n",
       "    </tr>\n",
       "    <tr>\n",
       "      <th>249454</th>\n",
       "      <td>O=C(CC(c1ccccc1)c1ccccc1)N1CCN(S(=O)(=O)c2cccc...</td>\n",
       "      <td>3.64990</td>\n",
       "      <td>0.370287</td>\n",
       "      <td>2.214249</td>\n",
       "    </tr>\n",
       "  </tbody>\n",
       "</table>\n",
       "<p>249455 rows × 4 columns</p>\n",
       "</div>"
      ],
      "text/plain": [
       "                                                   smiles     logP       qed  \\\n",
       "0                 CC(C)(C)c1ccc2occ(CC(=O)Nc3ccccc3F)c2c1  5.05060  0.702012   \n",
       "1            C[C@@H]1CC(Nc2cncc(-c3nncn3C)c2)C[C@@H](C)C1  3.11370  0.928975   \n",
       "2       N#Cc1ccc(-c2ccc(O[C@@H](C(=O)N3CCCC3)c3ccccc3)...  4.96778  0.599682   \n",
       "3       CCOC(=O)[C@@H]1CCCN(C(=O)c2nc(-c3ccc(C)cc3)n3c...  4.00022  0.690944   \n",
       "4       N#CC1=C(SCC(=O)Nc2cccc(Cl)c2)N=C([O-])[C@H](C#...  3.60956  0.789027   \n",
       "...                                                   ...      ...       ...   \n",
       "249450   CC1(C)CC[C@H](CNC(=O)Cn2ncc3ccccc3c2=O)c2ccccc21  3.36790  0.745901   \n",
       "249451  Cn1ccnc1C(=O)c1ccc(NC(=O)C2CCN(C(=O)C(C)(C)C)C...  2.87430  0.799426   \n",
       "249452             Cc1ccc(NC(=O)C(=O)N(C)Cc2ccccc2)c(C)c1  2.90054  0.878086   \n",
       "249453         Cc1cc(C(=O)Nc2ccc(OCC(N)=O)cc2)c(C)n1C1CC1  2.55624  0.852917   \n",
       "249454  O=C(CC(c1ccccc1)c1ccccc1)N1CCN(S(=O)(=O)c2cccc...  3.64990  0.370287   \n",
       "\n",
       "             SAS  \n",
       "0       2.084095  \n",
       "1       3.432004  \n",
       "2       2.470633  \n",
       "3       2.822753  \n",
       "4       4.035182  \n",
       "...          ...  \n",
       "249450  2.900726  \n",
       "249451  2.326627  \n",
       "249452  1.840642  \n",
       "249453  2.024638  \n",
       "249454  2.214249  \n",
       "\n",
       "[249455 rows x 4 columns]"
      ]
     },
     "execution_count": 28,
     "metadata": {},
     "output_type": "execute_result"
    }
   ],
   "source": [
    "zinc_df"
   ]
  },
  {
   "cell_type": "code",
   "execution_count": 13,
   "metadata": {},
   "outputs": [],
   "source": [
    "import csv"
   ]
  },
  {
   "cell_type": "code",
   "execution_count": 29,
   "metadata": {},
   "outputs": [],
   "source": [
    "zinc_df.to_csv('zinc/zinc.smi', quoting=csv.QUOTE_NONE, index=False, escapechar=' ')"
   ]
  },
  {
   "cell_type": "code",
   "execution_count": 34,
   "metadata": {},
   "outputs": [],
   "source": [
    "m = pd.read_csv('moses/moses.txt')\n",
    "m = m.drop(columns=['SPLIT'])"
   ]
  },
  {
   "cell_type": "code",
   "execution_count": 36,
   "metadata": {},
   "outputs": [
    {
     "data": {
      "text/html": [
       "<div>\n",
       "<style scoped>\n",
       "    .dataframe tbody tr th:only-of-type {\n",
       "        vertical-align: middle;\n",
       "    }\n",
       "\n",
       "    .dataframe tbody tr th {\n",
       "        vertical-align: top;\n",
       "    }\n",
       "\n",
       "    .dataframe thead th {\n",
       "        text-align: right;\n",
       "    }\n",
       "</style>\n",
       "<table border=\"1\" class=\"dataframe\">\n",
       "  <thead>\n",
       "    <tr style=\"text-align: right;\">\n",
       "      <th></th>\n",
       "      <th>smiles</th>\n",
       "    </tr>\n",
       "  </thead>\n",
       "  <tbody>\n",
       "    <tr>\n",
       "      <th>0</th>\n",
       "      <td>CCCS(=O)c1ccc2[nH]c(=NC(=O)OC)[nH]c2c1</td>\n",
       "    </tr>\n",
       "    <tr>\n",
       "      <th>1</th>\n",
       "      <td>CC(C)(C)C(=O)C(Oc1ccc(Cl)cc1)n1ccnc1</td>\n",
       "    </tr>\n",
       "    <tr>\n",
       "      <th>2</th>\n",
       "      <td>Cc1c(Cl)cccc1Nc1ncccc1C(=O)OCC(O)CO</td>\n",
       "    </tr>\n",
       "    <tr>\n",
       "      <th>3</th>\n",
       "      <td>Cn1cnc2c1c(=O)n(CC(O)CO)c(=O)n2C</td>\n",
       "    </tr>\n",
       "    <tr>\n",
       "      <th>4</th>\n",
       "      <td>CC1Oc2ccc(Cl)cc2N(CC(O)CO)C1=O</td>\n",
       "    </tr>\n",
       "    <tr>\n",
       "      <th>...</th>\n",
       "      <td>...</td>\n",
       "    </tr>\n",
       "    <tr>\n",
       "      <th>1584658</th>\n",
       "      <td>N#Cc1c(Br)cnc(N)c1Br</td>\n",
       "    </tr>\n",
       "    <tr>\n",
       "      <th>1584659</th>\n",
       "      <td>COC(=O)c1cc(CNC(=O)OC(C)(C)C)ccc1C</td>\n",
       "    </tr>\n",
       "    <tr>\n",
       "      <th>1584660</th>\n",
       "      <td>NC(=O)c1ccc2ccccc2c1Br</td>\n",
       "    </tr>\n",
       "    <tr>\n",
       "      <th>1584661</th>\n",
       "      <td>CC(=O)Nc1cccc(-c2nc3cc(C)ccc3[nH]c2=O)c1</td>\n",
       "    </tr>\n",
       "    <tr>\n",
       "      <th>1584662</th>\n",
       "      <td>CC(NC(=O)OC(C)(C)C)c1nc(CO)nn1Cc1ccccc1</td>\n",
       "    </tr>\n",
       "  </tbody>\n",
       "</table>\n",
       "<p>1584663 rows × 1 columns</p>\n",
       "</div>"
      ],
      "text/plain": [
       "                                           smiles\n",
       "0          CCCS(=O)c1ccc2[nH]c(=NC(=O)OC)[nH]c2c1\n",
       "1            CC(C)(C)C(=O)C(Oc1ccc(Cl)cc1)n1ccnc1\n",
       "2             Cc1c(Cl)cccc1Nc1ncccc1C(=O)OCC(O)CO\n",
       "3                Cn1cnc2c1c(=O)n(CC(O)CO)c(=O)n2C\n",
       "4                  CC1Oc2ccc(Cl)cc2N(CC(O)CO)C1=O\n",
       "...                                           ...\n",
       "1584658                      N#Cc1c(Br)cnc(N)c1Br\n",
       "1584659        COC(=O)c1cc(CNC(=O)OC(C)(C)C)ccc1C\n",
       "1584660                    NC(=O)c1ccc2ccccc2c1Br\n",
       "1584661  CC(=O)Nc1cccc(-c2nc3cc(C)ccc3[nH]c2=O)c1\n",
       "1584662   CC(NC(=O)OC(C)(C)C)c1nc(CO)nn1Cc1ccccc1\n",
       "\n",
       "[1584663 rows x 1 columns]"
      ]
     },
     "execution_count": 36,
     "metadata": {},
     "output_type": "execute_result"
    }
   ],
   "source": [
    "m.columns = ['smiles']\n",
    "m"
   ]
  },
  {
   "cell_type": "code",
   "execution_count": 37,
   "metadata": {},
   "outputs": [],
   "source": [
    "m.to_csv('moses/moses.smi', index=False)"
   ]
  }
 ],
 "metadata": {
  "kernelspec": {
   "display_name": "Python 3",
   "language": "python",
   "name": "python3"
  },
  "language_info": {
   "codemirror_mode": {
    "name": "ipython",
    "version": 3
   },
   "file_extension": ".py",
   "mimetype": "text/x-python",
   "name": "python",
   "nbconvert_exporter": "python",
   "pygments_lexer": "ipython3",
   "version": "3.12.2"
  }
 },
 "nbformat": 4,
 "nbformat_minor": 2
}
